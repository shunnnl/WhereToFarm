{
 "cells": [
  {
   "cell_type": "code",
   "execution_count": 1,
   "metadata": {},
   "outputs": [],
   "source": [
    "import os\n",
    "import glob\n",
    "import pandas as pd"
   ]
  },
  {
   "cell_type": "code",
   "execution_count": 2,
   "metadata": {},
   "outputs": [],
   "source": [
    "products = ['사과', '감귤', '수박', '배', '포도', '양파', '대파', '오이', '상추', '고구마']"
   ]
  },
  {
   "cell_type": "code",
   "execution_count": 3,
   "metadata": {},
   "outputs": [],
   "source": [
    "column_to_check = \"PDLT_NM\" \n",
    "\n",
    "# 품목 찾아서 월별 평균 가격 구하기\n",
    "def cal_avg_price(product, df, column_name=column_to_check):\n",
    "    # 해당 컬럼이 df에 있는지 확인\n",
    "    if column_name in df.columns:\n",
    "        # str.contains 사용 전에 해당 컬럼이 문자열인지 확인\n",
    "        if df[column_name].dtype == 'object':\n",
    "            filtered_df = df[df[column_name].str.contains(product, na=False)]\n",
    "            if not filtered_df.empty:\n",
    "\n",
    "                # AUC_SFBD_TOT_AMNT_PER_KG 칼럼의 평균 계산\n",
    "                if 'AUC_SFBD_TOT_AMNT_PER_KG' in filtered_df.columns:\n",
    "                    return filtered_df['AUC_SFBD_TOT_AMNT_PER_KG'].mean()\n",
    "                else:\n",
    "                    return None  # AUC_SFBD_TOT_AMNT_PER_KG 칼럼이 없는 경우"
   ]
  },
  {
   "cell_type": "code",
   "execution_count": 5,
   "metadata": {},
   "outputs": [
    {
     "name": "stdout",
     "output_type": "stream",
     "text": [
      "'사과' 데이터 처리 중...\n",
      "'사과' 데이터 12행이 사과_monthly_price_avg_data.csv으로 저장되었습니다.\n",
      "'감귤' 데이터 처리 중...\n",
      "'감귤' 데이터 12행이 감귤_monthly_price_avg_data.csv으로 저장되었습니다.\n",
      "'수박' 데이터 처리 중...\n",
      "'수박' 데이터 12행이 수박_monthly_price_avg_data.csv으로 저장되었습니다.\n",
      "'배' 데이터 처리 중...\n",
      "'배' 데이터 12행이 배_monthly_price_avg_data.csv으로 저장되었습니다.\n",
      "'포도' 데이터 처리 중...\n",
      "'포도' 데이터 12행이 포도_monthly_price_avg_data.csv으로 저장되었습니다.\n",
      "'양파' 데이터 처리 중...\n",
      "'양파' 데이터 12행이 양파_monthly_price_avg_data.csv으로 저장되었습니다.\n",
      "'대파' 데이터 처리 중...\n",
      "'대파' 데이터 12행이 대파_monthly_price_avg_data.csv으로 저장되었습니다.\n",
      "'오이' 데이터 처리 중...\n",
      "'오이' 데이터 12행이 오이_monthly_price_avg_data.csv으로 저장되었습니다.\n",
      "'상추' 데이터 처리 중...\n",
      "'상추' 데이터 12행이 상추_monthly_price_avg_data.csv으로 저장되었습니다.\n",
      "'고구마' 데이터 처리 중...\n",
      "'고구마' 데이터 12행이 고구마_monthly_price_avg_data.csv으로 저장되었습니다.\n",
      "모든 품목 처리 완료!\n"
     ]
    }
   ],
   "source": [
    "import re\n",
    "\n",
    "folder_path = './2023-24-도매시세' \n",
    "\n",
    "# 폴더 내 csv 파일 경로 리스트 생성\n",
    "csv_file_list = glob.glob(os.path.join(folder_path, '*.csv'))\n",
    "\n",
    "# 품목별로 처리\n",
    "for product in products:\n",
    "    print(f\"'{product}' 데이터 처리 중...\")\n",
    "    \n",
    "    # 각 품목마다 all_data 초기화\n",
    "    product_year_price_df = {\n",
    "    'MONTH': [],\n",
    "    'YEAR': [],\n",
    "    'AVG_PRICE': [], # 월별 평균 가격을 저장할 리스트\n",
    "    'PRODUCT': [] # 품목명을 저장할 리스트\n",
    "    }\n",
    "\n",
    "    product_year_price_df = pd.DataFrame(product_year_price_df)\n",
    "    \n",
    "    # 모든 파일을 순회하며 해당 품목 데이터 찾기\n",
    "    for file_path in csv_file_list:\n",
    "        # 파일 읽기\n",
    "        df = pd.read_csv(file_path, encoding='euc-kr', low_memory=False)\n",
    "\n",
    "        file_name = os.path.basename(file_path)\n",
    "\n",
    "        # 파일명에서 연도와 월 추출 (파일명 패턴에 따라 수정 필요)\n",
    "        # 예: \"2023년 06월 공영도매시장 농협 공판장 품목산지별 물량 및 금액-202306.csv\"\n",
    "        match = re.search(r'(\\d{4})년\\s+(\\d{2})월', file_name)\n",
    "        if match:\n",
    "            year = match.group(1)\n",
    "            month = match.group(2)\n",
    "        else:\n",
    "            # 파일명 끝부분에서 추출 시도\n",
    "            date_part = file_name.split('-')[-1].split('.')[0]  # -202306.csv에서 202306 추출\n",
    "            if len(date_part) >= 6 and date_part.isdigit():\n",
    "                year = date_part[:4]\n",
    "                month = date_part[4:6]\n",
    "            else:\n",
    "                print(f\"파일 {file_name}에서 연도와 월을 추출할 수 없습니다. 건너뜁니다.\")\n",
    "                continue\n",
    "        \n",
    "        # 'CHG_TOT_VOLM' 컬럼이 있는지 확인하고 이름 변경\n",
    "        if 'CHG_TOT_VOLM' in df.columns:\n",
    "            df.rename(columns={'CHG_TOT_VOLM': 'KG_CHG_TOT_VOLM'}, inplace=True)\n",
    "        \n",
    "        # 1KG 당 거래액 컬럼 추가\n",
    "        df['AUC_SFBD_TOT_AMNT_PER_KG'] = df['AUC_SFBD_TOT_AMNT'] / df['KG_CHG_TOT_VOLM']\n",
    "        \n",
    "        # 인덱스 리셋\n",
    "        df.reset_index(drop=True, inplace=True)\n",
    "        \n",
    "        # 현재 품목에 대한 데이터 찾기\n",
    "        avg_price = cal_avg_price(product, df)\n",
    "        new_row_dict = {'MONTH': month , 'YEAR': year, 'AVG_PRICE': avg_price, 'PRODUCT': product}\n",
    "        product_year_price_df = pd.concat([product_year_price_df, pd.DataFrame([new_row_dict])], ignore_index=True)\n",
    "    \n",
    "    # 결과 확인 및 저장\n",
    "    if product_year_price_df.empty:\n",
    "        print(f\"'{product}'에 대한 데이터가 없습니다.\")\n",
    "    else:\n",
    "        # 파일명에 품목 이름 포함\n",
    "        file_name = f\"{product}_monthly_price_avg_data.csv\"\n",
    "        file_path = os.path.join(\"품목별-월평균-가격-데이터\", file_name)\n",
    "        \n",
    "        # 결과 저장\n",
    "        product_year_price_df.to_csv(file_path, index=False, encoding='euc-kr')\n",
    "        print(f\"'{product}' 데이터 {len(product_year_price_df)}행이 {file_name}으로 저장되었습니다.\")\n",
    "\n",
    "print(\"모든 품목 처리 완료!\")"
   ]
  }
 ],
 "metadata": {
  "kernelspec": {
   "display_name": "venv",
   "language": "python",
   "name": "python3"
  },
  "language_info": {
   "codemirror_mode": {
    "name": "ipython",
    "version": 3
   },
   "file_extension": ".py",
   "mimetype": "text/x-python",
   "name": "python",
   "nbconvert_exporter": "python",
   "pygments_lexer": "ipython3",
   "version": "3.9.13"
  }
 },
 "nbformat": 4,
 "nbformat_minor": 2
}
