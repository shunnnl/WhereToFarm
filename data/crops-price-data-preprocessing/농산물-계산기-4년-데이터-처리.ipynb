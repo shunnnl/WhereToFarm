{
 "cells": [
  {
   "cell_type": "markdown",
   "metadata": {},
   "source": [
    "# 농산물 도매 경매 데이터 처리 프로세스\n",
    "\n",
    "## 1. 개요\n",
    "\n",
    "본 문서는 2020년부터 2024년까지의 33개 공판장에서 수집된, 10개 선별 농산물 품목에 대한 도매 경매 데이터 처리 과정을 설명합니다. 이 처리된 데이터는 2025년 월별 농산물 시세 예측을 위한 기초 자료로 활용됩니다.\n",
    "\n",
    "## 2. 데이터 개요\n",
    "\n",
    "### 2.1 원본 데이터 형식\n",
    "- 파일명 예시: \"2020년 01월 공영도매시장 농협 공판장 거래금액 및 반입량-20200101_20200131\"\n",
    "- 총 60개 CSV 파일 (2020년 1월 ~ 2024년 12월, 월별 데이터)\n",
    "- 주요 컬럼:\n",
    "  - `auc_ymd`: 경매일자\n",
    "  - `whsl_mrkt_code`: 도매시장코드\n",
    "  - `whsl_mrkt_nm`: 도매시장명\n",
    "  - `pdlt_code`: 품목코드\n",
    "  - `pdlt_nm`: 품목명\n",
    "  - `unit_qyt`: 단위수량\n",
    "  - `prce`: 가격\n",
    "  - `kg_unit_cnvr_qyt`: KG단위변환수량\n",
    "\n",
    "## 3. 데이터 처리 과정\n",
    "\n",
    "### 3.1 파일 로드 및 통합\n",
    "- 정규식을 사용한 파일명 파싱으로 연도와 월 정보 추출\n",
    "- 다중 인코딩 지원 (utf-8, cp949, euc-kr 등)\n",
    "- 병렬 처리로 60개 파일 효율적 로드\n",
    "\n",
    "```python\n",
    "def extract_year_month(filename):\n",
    "    \"\"\"파일명에서 연도와 월을 추출합니다.\"\"\"\n",
    "    base_name = os.path.basename(filename)\n",
    "    \n",
    "    # 정규식을 사용하여 연도와 월을 추출\n",
    "    year_month_pattern = r'(\\d{4})년\\s*(\\d{2})월'\n",
    "    match = re.search(year_month_pattern, base_name)\n",
    "    \n",
    "    if match:\n",
    "        year = int(match.group(1))\n",
    "        month = int(match.group(2))\n",
    "        return year, month\n",
    "    else:\n",
    "        # 파일명에서 날짜를 추출할 수 없는 경우, 하이픈 뒤의 날짜 범위에서 추출\n",
    "        date_range_pattern = r'-(\\d{4})(\\d{2})(\\d{2})_\\d{4}\\d{2}\\d{2}'\n",
    "        match = re.search(date_range_pattern, base_name)\n",
    "        if match:\n",
    "            year = int(match.group(1))\n",
    "            month = int(match.group(2))\n",
    "            return year, month\n",
    "```\n",
    "\n",
    "### 3.2 데이터 필터링 및 변환\n",
    "- 10개 선별 농산물 품목만 필터링\n",
    "- KG 단위로 가격 통일: `price_per_kg = prce / kg_unit_cnvr_qyt`\n",
    "- 날짜 형식 표준화: `date = pd.to_datetime()`\n",
    "- 데이터 유효성 검증: 음수 값, 0 값, NaN 값 처리\n",
    "\n",
    "```python\n",
    "# KG 단위로 데이터 변환\n",
    "df_filtered['total_kg'] = df_filtered['kg_unit_cnvr_qyt'].apply(lambda x: max(x, 0) if pd.notnull(x) else 0)\n",
    "df_filtered['total_sales'] = df_filtered['prce'].apply(lambda x: max(x, 0) if pd.notnull(x) else 0)\n",
    "\n",
    "# price_per_kg 계산\n",
    "df_filtered['price_per_kg'] = df_filtered.apply(\n",
    "    lambda row: row['total_sales'] / row['total_kg'] if row['total_kg'] > 0 else np.nan, \n",
    "    axis=1\n",
    ")\n",
    "```\n",
    "\n",
    "### 3.3 이상치 제거\n",
    "- IQR(Inter-Quartile Range) 방식 적용\n",
    "- 품목별, 월별로 그룹화하여 이상치 제거\n",
    "- 데이터가 4개 이하인 경우 이상치 제거 생략\n",
    "\n",
    "```python\n",
    "def remove_outliers(group):\n",
    "    if len(group) <= 4:  # 데이터가 너무 적으면 이상치 제거 생략\n",
    "        return group\n",
    "    q1 = group['price_per_kg'].quantile(0.25) # 1사분위수 (하위 25%)\n",
    "    q3 = group['price_per_kg'].quantile(0.75) # 3사분위수 (상위 25%)\n",
    "    iqr = q3 - q1 # 중간 50% 데이터를 의미\n",
    "    lower_bound = q1 - 1.5 * iqr # 이상치 경계 하한선 \n",
    "    upper_bound = q3 + 1.5 * iqr # 이상치 경계 상한선\n",
    "    return group[(group['price_per_kg'] >= lower_bound) & (group['price_per_kg'] <= upper_bound)] # 이상치 제거\n",
    "```\n",
    "\n",
    "### 3.4 월별 가중 평균 계산\n",
    "- 거래량을 가중치로 사용한 월별 평균 가격 계산\n",
    "- 대량 거래 가격에 더 큰 가중치 부여\n",
    "- 실제 시장 상황을 더 정확히 반영\n",
    "\n",
    "```python\n",
    "# 월별 가중 평균 계산 (거래량 기준)\n",
    "monthly_data = (cleaned_data.groupby(['year', 'month', 'product']) # 연, 달, 품목으로 그룹화 \n",
    "               .apply(lambda x: np.average(x['price_per_kg'], weights=x['total_kg']) # 람다 함수를 사용\n",
    "               # 각 거래 총 키로그램 수를 가중치로 사용해 가중 평균을 낸다. 거래량이 많은 거래의 가격에 더 큰 비중\n",
    "                    if x['total_kg'].sum() > 0 else x['price_per_kg'].mean())\n",
    "                    # 만약 전체 kg 수가 0보다 많으면(거래량이 있으면) 가중 평균\n",
    "                    # 없으면 모든 거래의 가격을 동일 비중으로 더하고 거래 횟수로 나눔(예외 처리, 데이터 누락이나 참조가격, 오류, 시세 정보 등을 다루기 위함함)\n",
    "               .reset_index(name='weighted_avg_price')) # 계산 이후 컬럼명 변경\n",
    "```\n",
    "\n",
    "### 3.5 시계열 특성 생성\n",
    "- 이전 달 가격 및 변화율\n",
    "- 작년 동월 가격 및 변화율\n",
    "- 3개월, 6개월, 12개월 이동평균\n",
    "- 가격 변동성 (표준편차)\n",
    "\n",
    "```python\n",
    "for product in target_products:\n",
    "    product_df = monthly_data[monthly_data['product'] == product].sort_values('date') # 품목 당 날짜에 맞추어 정렬\n",
    "    \n",
    "    if not product_df.empty:\n",
    "        # 이전 달 가격, 변화율\n",
    "        product_df['prev_month_price'] = product_df['weighted_avg_price'].shift(1) # 1달치 가격 연결\n",
    "        product_df['monthly_change'] = product_df['weighted_avg_price'].pct_change() # 변화율 구하기\n",
    "        \n",
    "        # 작년 동월 가격, 변화율\n",
    "        product_df['prev_year_price'] = product_df['weighted_avg_price'].shift(12) # 1년치(12개월) 가격 연결 \n",
    "        product_df['yearly_change'] = product_df['weighted_avg_price'] / product_df['prev_year_price'] - 1 # 현재 가격을 작년 동월 가격으로 나누고 1을 빼서 변화율 계산 (현재 가격/작년 가격 > 1 상승, 1보다 작으면 하락, 1을 빼서 퍼센트 표현을 얻는다)\n",
    "        \n",
    "        # 이동평균 - 현재 행, 이전 N-1개 행의 평균 구하기\n",
    "        product_df['ma_3'] = product_df['weighted_avg_price'].rolling(window=3).mean() # 3개월 이동 평균\n",
    "        product_df['ma_6'] = product_df['weighted_avg_price'].rolling(window=6).mean() # 6개월 이동 평균\n",
    "        product_df['ma_12'] = product_df['weighted_avg_price'].rolling(window=12).mean() # 12개월(1년) 이동 평균 \n",
    "        \n",
    "        # 가격 변동성\n",
    "        product_df['volatility'] = product_df['weighted_avg_price'].rolling(window=3).std() # 3개월 표준편차 = 변동성 \n",
    "```\n",
    "\n",
    "## 4. 데이터 처리 결과\n",
    "\n",
    "### 4.1 최종 데이터셋 구조\n",
    "- 각 행은 특정 품목, 특정 월의 데이터를 나타냄\n",
    "- 2020년 1월부터 2024년 12월까지 총 60개월 데이터\n",
    "- 10개 선별 품목 각각에 대한 월별 시세 정보\n",
    "\n",
    "### 4.2 주요 산출 컬럼\n",
    "- `date`: 날짜 (연월)\n",
    "- `product`: 품목명\n",
    "- `weighted_avg_price`: 거래량 가중 평균 가격 (원/kg)\n",
    "- `monthly_change`: 전월 대비 변화율 (%)\n",
    "- `yearly_change`: 전년 동월 대비 변화율 (%)\n",
    "- `ma_3`, `ma_6`, `ma_12`: 3, 6, 12개월 이동평균\n",
    "- `volatility`: 가격 변동성 (3개월 표준편차)\n",
    "\n",
    "## 5. 데이터 처리 시 고려사항\n",
    "\n",
    "### 5.1 안전장치\n",
    "- 중간 결과 정기 저장: 20개 파일마다 중간 결과 저장\n",
    "- 파일 백업: 기존 결과 파일 자동 백업\n",
    "- 예외 처리: 파일 읽기 오류, 계산 오류 등에 대한 처리\n",
    "\n",
    "### 5.2 성능 최적화\n",
    "- 병렬 처리: `ThreadPoolExecutor`를 사용한 다중 파일 동시 처리\n",
    "- 메모리 효율성: 필요한 컬럼만 선택적 처리\n",
    "- 진행 상황 모니터링: `tqdm`을 사용한 진행 상황 시각화\n",
    "\n",
    "### 5.3 품질 보증\n",
    "- 데이터 유효성 검증: 각 단계마다 데이터 품질 확인\n",
    "- 품목별 통계 생성: 최소/최대/평균/표준편차 계산\n",
    "- 결측치 처리: 계산 불가능한 값은 NaN으로 처리 후 분석 시 고려\n",
    "\n",
    "## 6. 결론\n",
    "\n",
    "이 데이터 처리 과정을 통해 2020년부터 2024년까지의 농산물 도매 경매 데이터를 분석하기 좋은 형태로 변환했습니다. 최종 데이터셋은 농산물 시세 예측 모델의 입력 데이터로 활용되며, 각 품목의 시간적 패턴과 관계를 분석하는 데 유용합니다."
   ]
  },
  {
   "cell_type": "code",
   "execution_count": 3,
   "metadata": {},
   "outputs": [],
   "source": [
    "import pandas as pd\n",
    "import numpy as np\n",
    "import os\n",
    "from glob import glob\n",
    "import concurrent.futures\n",
    "from tqdm import tqdm\n",
    "import re\n",
    "import warnings\n",
    "warnings.filterwarnings('ignore')"
   ]
  },
  {
   "cell_type": "code",
   "execution_count": 4,
   "metadata": {},
   "outputs": [],
   "source": [
    "# 1. 모든 CSV 파일 경로 가져오기\n",
    "def get_all_csv_files(directory_path):\n",
    "    \"\"\"지정된 디렉토리에서 모든 CSV 파일 경로를 가져옵니다.\"\"\"\n",
    "    all_files = glob(os.path.join(directory_path, '*.csv'))\n",
    "    return sorted(all_files)"
   ]
  },
  {
   "cell_type": "code",
   "execution_count": 5,
   "metadata": {},
   "outputs": [],
   "source": [
    "# 2. 파일명에서 연월 추출하는 함수\n",
    "def extract_year_month(filename):\n",
    "    \"\"\"파일명에서 연도와 월을 추출합니다.\"\"\"\n",
    "    # 파일명 예시: \"2020년 01월 공영도매시장 농협 공판장 거래금액 및 반입량-20200101_20200131\"\n",
    "    base_name = os.path.basename(filename)\n",
    "    \n",
    "    # 정규식을 사용하여 연도와 월을 추출\n",
    "    year_month_pattern = r'(\\d{4})년\\s*(\\d{2})월'\n",
    "    match = re.search(year_month_pattern, base_name)\n",
    "    \n",
    "    if match:\n",
    "        year = int(match.group(1))\n",
    "        month = int(match.group(2))\n",
    "        return year, month\n",
    "    else:\n",
    "        # 파일명에서 날짜를 추출할 수 없는 경우, 하이픈 뒤의 날짜 범위에서 추출\n",
    "        date_range_pattern = r'-(\\d{4})(\\d{2})(\\d{2})_\\d{4}\\d{2}\\d{2}'\n",
    "        match = re.search(date_range_pattern, base_name)\n",
    "        if match:\n",
    "            year = int(match.group(1))\n",
    "            month = int(match.group(2))\n",
    "            return year, month\n",
    "        else:\n",
    "            raise ValueError(f\"파일명에서 연월을 추출할 수 없습니다: {base_name}\")\n"
   ]
  },
  {
   "cell_type": "code",
   "execution_count": 6,
   "metadata": {},
   "outputs": [],
   "source": [
    "# 3. 각 파일 처리 함수\n",
    "def process_single_file(file_path, target_products):\n",
    "    \"\"\"단일 CSV 파일을 처리하는 함수\"\"\"\n",
    "    try:\n",
    "        # 파일에서 연월 추출\n",
    "        year, month = extract_year_month(file_path)\n",
    "        \n",
    "        # 파일 로드\n",
    "        df = pd.read_csv(file_path, encoding='euc-kr')\n",
    "        \n",
    "        # 날짜 형식 통일\n",
    "        # auc_ymd가 문자열 형식인지 확인하고 적절히 처리\n",
    "        if 'AUC_YMD' in df.columns:\n",
    "            if df['AUC_YMD'].dtype == 'object':\n",
    "                df['date'] = pd.to_datetime(df['AUC_YMD'], format='%Y%m%d', errors='coerce')\n",
    "            else:  # 숫자형인 경우\n",
    "                df['date'] = pd.to_datetime(df['AUC_YMD'].astype(str), format='%Y%m%d', errors='coerce')\n",
    "        else:\n",
    "            # auc_ymd 컬럼이 없는 경우, 파일명에서 추출한's 연월 정보로 날짜 생성\n",
    "            df['date'] = pd.to_datetime(f'{year}-{month}-01')\n",
    "        \n",
    "        df['year'] = df['date'].dt.year\n",
    "        df['month'] = df['date'].dt.month\n",
    "        \n",
    "        # 10개 품목 필터링\n",
    "        df_filtered = df[df['PDLT_NM'].isin(target_products)]\n",
    "        \n",
    "        # KG 단위로 데이터 변환\n",
    "        # 값이 음수인 경우 처리\n",
    "        df_filtered['total_kg'] = df_filtered['KG_UNIT_CNVR_QYT'].apply(lambda x: max(x, 0) if pd.notnull(x) else 0)\n",
    "        df_filtered['total_sales'] = df_filtered['PRCE'].apply(lambda x: max(x, 0) if pd.notnull(x) else 0)\n",
    "        \n",
    "        # total_kg가 0인 경우 price_per_kg를 NaN으로 설정하여 나중에 제외\n",
    "        df_filtered['price_per_kg'] = df_filtered.apply(\n",
    "            lambda row: row['total_sales'] / row['total_kg'] if row['total_kg'] > 0 else np.nan, \n",
    "            axis=1\n",
    "        )\n",
    "        \n",
    "        # 필요한 컬럼만 선택\n",
    "        daily_data = df_filtered[['date', 'year', 'month', 'PDLT_NM', 'WMK_CORP_NM', \n",
    "                                 'total_kg', 'total_sales', 'price_per_kg']]\n",
    "        \n",
    "        # 컬럼명 변경\n",
    "        daily_data = daily_data.rename(columns={'PDLT_NM': 'product', 'WMK_CORP_NM': 'NH-market'})\n",
    "        \n",
    "        # 유효한 가격 데이터만 선택 (0이나 NaN 제외)\n",
    "        daily_data = daily_data[daily_data['price_per_kg'] > 0].dropna(subset=['price_per_kg'])\n",
    "        \n",
    "        print(f\"처리 완료: {os.path.basename(file_path)}\")\n",
    "        return daily_data\n",
    "    \n",
    "    except Exception as e:\n",
    "        print(f\"파일 처리 중 오류 발생: {os.path.basename(file_path)}, 오류: {e}\")\n",
    "        return None\n"
   ]
  },
  {
   "cell_type": "code",
   "execution_count": 7,
   "metadata": {},
   "outputs": [],
   "source": [
    "# 4. 모든 파일 처리 함수\n",
    "def process_all_files(directory_path, target_products):\n",
    "    \"\"\"모든 CSV 파일을 병렬로 처리합니다.\"\"\"\n",
    "    all_files = get_all_csv_files(directory_path)\n",
    "    print(f\"총 {len(all_files)}개 파일을 처리합니다.\")\n",
    "    \n",
    "    # 첫 번째 파일로 인코딩 테스트\n",
    "    if all_files:\n",
    "        try:\n",
    "            # 인코딩 감지 (여러 일반적인 인코딩 시도)\n",
    "            encodings = ['utf-8', 'cp949', 'euc-kr', 'latin1']\n",
    "            detected_encoding = None\n",
    "            \n",
    "            for encoding in encodings:\n",
    "                try:\n",
    "                    with open(all_files[0], 'r', encoding=encoding) as f:\n",
    "                        f.read(1024)  # 첫 1024바이트만 읽어서 테스트\n",
    "                    detected_encoding = encoding\n",
    "                    break\n",
    "                except UnicodeDecodeError:\n",
    "                    continue\n",
    "            \n",
    "            if detected_encoding:\n",
    "                print(f\"감지된 인코딩: {detected_encoding}\")\n",
    "            else:\n",
    "                print(\"인코딩을 감지할 수 없습니다. 기본값 utf-8을 사용합니다.\")\n",
    "                detected_encoding = 'utf-8'\n",
    "        except Exception as e:\n",
    "            print(f\"인코딩 감지 중 오류: {e}\")\n",
    "            detected_encoding = 'utf-8'\n",
    "    else:\n",
    "        print(\"처리할 파일이 없습니다.\")\n",
    "        return None\n",
    "    \n",
    "    # 다중 처리 설정\n",
    "    max_workers = min(8, len(all_files))  # 최대 8개 스레드 또는 파일 수 중 작은 값\n",
    "    all_data = []\n",
    "    \n",
    "    # ThreadPoolExecutor를 사용하여 병렬 처리\n",
    "    with concurrent.futures.ThreadPoolExecutor(max_workers=max_workers) as executor:\n",
    "        # 각 파일에 대해 process_single_file 함수 실행\n",
    "        future_to_file = {executor.submit(process_single_file, file, target_products): file for file in all_files}\n",
    "        \n",
    "        for future in tqdm(concurrent.futures.as_completed(future_to_file), total=len(all_files)):\n",
    "            file = future_to_file[future]\n",
    "            try:\n",
    "                data = future.result()\n",
    "                if data is not None and not data.empty:\n",
    "                    all_data.append(data)\n",
    "                    \n",
    "                    # 20개 파일마다 중간 결과 저장\n",
    "                    if len(all_data) % 20 == 0:\n",
    "                        temp_data = pd.concat(all_data, ignore_index=True)\n",
    "                        temp_data.to_csv(f'temp_result_{len(all_data)}.csv', index=False)\n",
    "                        print(f\"중간 결과 저장: temp_result_{len(all_data)}.csv\")\n",
    "            except Exception as e:\n",
    "                print(f\"{os.path.basename(file)} 처리 중 예외 발생: {e}\")\n",
    "    \n",
    "    # 모든 데이터 병합\n",
    "    if all_data:\n",
    "        combined_data = pd.concat(all_data, ignore_index=True)\n",
    "        return combined_data\n",
    "    else:\n",
    "        print(\"처리된 데이터가 없습니다.\")\n",
    "        return None\n"
   ]
  },
  {
   "cell_type": "code",
   "execution_count": 8,
   "metadata": {},
   "outputs": [],
   "source": [
    "# 5. 이상치 제거 함수\n",
    "def remove_outliers(group):\n",
    "    if len(group) <= 4:  # 데이터가 너무 적으면 이상치 제거 생략\n",
    "        return group\n",
    "    q1 = group['price_per_kg'].quantile(0.25)\n",
    "    q3 = group['price_per_kg'].quantile(0.75)\n",
    "    iqr = q3 - q1\n",
    "    lower_bound = q1 - 1.5 * iqr\n",
    "    upper_bound = q3 + 1.5 * iqr\n",
    "    return group[(group['price_per_kg'] >= lower_bound) & (group['price_per_kg'] <= upper_bound)]\n"
   ]
  },
  {
   "cell_type": "code",
   "execution_count": 9,
   "metadata": {},
   "outputs": [],
   "source": [
    "\n",
    "# 6. 메인 실행 함수\n",
    "def main():\n",
    "    # 설정\n",
    "    data_directory = '2020-24 경매 데이터'  # CSV 파일이 있는 디렉토리 경로\n",
    "    target_products = ['사과', '감귤', '수박', '배', '포도', '양파', '대파', '오이', '상추', '고구마']  # 분석할 10개 품목\n",
    "    output_file = 'processed_monthly_agricultural_prices.csv'\n",
    "    \n",
    "    # 파일이 존재하는지 확인하고, 백업 생성\n",
    "    if os.path.exists(output_file):\n",
    "        backup_file = f\"{output_file}.bak\"\n",
    "        try:\n",
    "            os.rename(output_file, backup_file)\n",
    "            print(f\"기존 파일 백업: {backup_file}\")\n",
    "        except Exception as e:\n",
    "            print(f\"백업 생성 중 오류: {e}\")\n",
    "    \n",
    "    # 모든 파일 처리\n",
    "    combined_data = process_all_files(data_directory, target_products)\n",
    "    \n",
    "    if combined_data is not None:\n",
    "        print(f\"총 {len(combined_data)}개 데이터 로드 완료. 전처리 시작...\")\n",
    "        \n",
    "        # 중간 결과 저장 (안전장치)\n",
    "        temp_file = 'temp_processed_data.csv'\n",
    "        combined_data.to_csv(temp_file, index=False)\n",
    "        print(f\"중간 데이터 저장 완료: {temp_file}\")\n",
    "        \n",
    "        # 품목 및 날짜별로 그룹화하여 이상치 제거\n",
    "        print(\"이상치 제거 중...\")\n",
    "        cleaned_data = combined_data.groupby(['year', 'month', 'product']).apply(remove_outliers).reset_index(drop=True)\n",
    "        \n",
    "        # 가격 범위 확인\n",
    "        price_range = cleaned_data.groupby('product')['price_per_kg'].agg(['min', 'max', 'mean', 'std'])\n",
    "        print(\"\\n품목별 가격 범위:\")\n",
    "        print(price_range)\n",
    "        \n",
    "        # 월별 가중 평균 계산 (거래량 기준)\n",
    "        print(\"월별 가중 평균 계산 중...\")\n",
    "        monthly_data = (cleaned_data.groupby(['year', 'month', 'product'])\n",
    "                       .apply(lambda x: np.average(x['price_per_kg'], weights=x['total_kg']) if x['total_kg'].sum() > 0 else x['price_per_kg'].mean())\n",
    "                       .reset_index(name='weighted_avg_price'))\n",
    "        \n",
    "        # 시계열 형식으로 날짜 변환\n",
    "        monthly_data['date'] = pd.to_datetime(monthly_data['year'].astype(str) + '-' + \n",
    "                                            monthly_data['month'].astype(str) + '-01')\n",
    "        \n",
    "        # 추가 특성 생성\n",
    "        print(\"추가 특성 생성 중...\")\n",
    "        final_data = []\n",
    "        \n",
    "        for product in target_products:\n",
    "            product_df = monthly_data[monthly_data['product'] == product].sort_values('date')\n",
    "            \n",
    "            if not product_df.empty:\n",
    "                # 기본 정보 확인\n",
    "                print(f\"\\n{product} 데이터: {len(product_df)}개 월 (기간: {product_df['date'].min()} ~ {product_df['date'].max()})\")\n",
    "                \n",
    "                # 이전 달 가격, 변화율\n",
    "                product_df['prev_month_price'] = product_df['weighted_avg_price'].shift(1)\n",
    "                product_df['monthly_change'] = product_df['weighted_avg_price'].pct_change()\n",
    "                \n",
    "                # 작년 동월 가격, 변화율\n",
    "                product_df['prev_year_price'] = product_df['weighted_avg_price'].shift(12)\n",
    "                product_df['yearly_change'] = product_df['weighted_avg_price'].div(product_df['prev_year_price']).sub(1)\n",
    "                \n",
    "                # 이동평균\n",
    "                product_df['ma_3'] = product_df['weighted_avg_price'].rolling(window=3).mean()\n",
    "                product_df['ma_6'] = product_df['weighted_avg_price'].rolling(window=6).mean()\n",
    "                product_df['ma_12'] = product_df['weighted_avg_price'].rolling(window=12).mean()\n",
    "                \n",
    "                # 가격 변동성\n",
    "                product_df['volatility'] = product_df['weighted_avg_price'].rolling(window=3).std()\n",
    "                \n",
    "                final_data.append(product_df)\n",
    "            else:\n",
    "                print(f\"\\n경고: {product}에 대한 데이터가 없습니다.\")\n",
    "        \n",
    "        # 최종 데이터프레임\n",
    "        result_df = pd.concat(final_data)\n",
    "        \n",
    "        # 저장\n",
    "        result_df.to_csv(output_file, index=False)\n",
    "        print(f\"\\n모든 처리가 완료되었습니다! 결과 파일: {output_file}\")\n",
    "        \n",
    "        # 기본 통계 출력\n",
    "        print(\"\\n품목별 기본 통계:\")\n",
    "        summary = result_df.groupby('product')['weighted_avg_price'].describe()\n",
    "        print(summary)\n",
    "        \n",
    "        return result_df\n",
    "    else:\n",
    "        print(\"처리할 데이터가 없습니다.\")\n",
    "        return None"
   ]
  },
  {
   "cell_type": "code",
   "execution_count": 10,
   "metadata": {},
   "outputs": [
    {
     "name": "stdout",
     "output_type": "stream",
     "text": [
      "총 59개 파일을 처리합니다.\n",
      "감지된 인코딩: cp949\n"
     ]
    },
    {
     "name": "stderr",
     "output_type": "stream",
     "text": [
      "  2%|▏         | 1/59 [00:18<17:24, 18.00s/it]"
     ]
    },
    {
     "name": "stdout",
     "output_type": "stream",
     "text": [
      "처리 완료: 2020년 02월 공영도매시장 농협 공판장 거래금액 및 반입량-20200201_20200229.csv\n"
     ]
    },
    {
     "name": "stderr",
     "output_type": "stream",
     "text": [
      "  3%|▎         | 2/59 [00:18<07:27,  7.85s/it]"
     ]
    },
    {
     "name": "stdout",
     "output_type": "stream",
     "text": [
      "처리 완료: 2020년 01월 공영도매시장 농협 공판장 거래금액 및 반입량-20200101_20200131.csv\n"
     ]
    },
    {
     "name": "stderr",
     "output_type": "stream",
     "text": [
      "  5%|▌         | 3/59 [00:22<05:25,  5.81s/it]"
     ]
    },
    {
     "name": "stdout",
     "output_type": "stream",
     "text": [
      "처리 완료: 2020년 03월 공영도매시장 농협 공판장 거래금액 및 반입량-20200301_20200331.csv\n"
     ]
    },
    {
     "name": "stderr",
     "output_type": "stream",
     "text": [
      "  7%|▋         | 4/59 [00:26<04:38,  5.07s/it]"
     ]
    },
    {
     "name": "stdout",
     "output_type": "stream",
     "text": [
      "처리 완료: 2020년 07월 공영도매시장 농협 공판장 거래금액 및 반입량-20200701_20200731.csv\n",
      "처리 완료: 2020년 06월 공영도매시장 농협 공판장 거래금액 및 반입량-20200601_20200630.csv\n"
     ]
    },
    {
     "name": "stderr",
     "output_type": "stream",
     "text": [
      "  8%|▊         | 5/59 [00:26<02:58,  3.30s/it]"
     ]
    },
    {
     "name": "stdout",
     "output_type": "stream",
     "text": [
      "처리 완료: 2020년 04월 공영도매시장 농협 공판장 거래금액 및 반입량-20200401_20200430.csv\n"
     ]
    },
    {
     "name": "stderr",
     "output_type": "stream",
     "text": [
      " 12%|█▏        | 7/59 [00:34<03:08,  3.63s/it]"
     ]
    },
    {
     "name": "stdout",
     "output_type": "stream",
     "text": [
      "처리 완료: 2020년 08월 공영도매시장 농협 공판장 거래금액 및 반입량-20200801_20200831.csv\n"
     ]
    },
    {
     "name": "stderr",
     "output_type": "stream",
     "text": [
      " 14%|█▎        | 8/59 [00:39<03:25,  4.02s/it]"
     ]
    },
    {
     "name": "stdout",
     "output_type": "stream",
     "text": [
      "처리 완료: 2020년 09월 공영도매시장 농협 공판장 거래금액 및 반입량-20200901_20200930.csv\n"
     ]
    },
    {
     "name": "stderr",
     "output_type": "stream",
     "text": [
      " 15%|█▌        | 9/59 [00:54<06:24,  7.69s/it]"
     ]
    },
    {
     "name": "stdout",
     "output_type": "stream",
     "text": [
      "처리 완료: 2021년 01월 공영도매시장 농협 공판장 거래금액 및 반입량-20210101_20210131.csv\n"
     ]
    },
    {
     "name": "stderr",
     "output_type": "stream",
     "text": [
      " 17%|█▋        | 10/59 [00:55<04:30,  5.52s/it]"
     ]
    },
    {
     "name": "stdout",
     "output_type": "stream",
     "text": [
      "처리 완료: 2021년 02월 공영도매시장 농협 공판장 거래금액 및 반입량-20210201_20210228.csv\n"
     ]
    },
    {
     "name": "stderr",
     "output_type": "stream",
     "text": [
      " 19%|█▊        | 11/59 [00:56<03:24,  4.27s/it]"
     ]
    },
    {
     "name": "stdout",
     "output_type": "stream",
     "text": [
      "처리 완료: 2020년 12월 공영도매시장 농협 공판장 거래금액 및 반입량-20201201_20201231.csv\n"
     ]
    },
    {
     "name": "stderr",
     "output_type": "stream",
     "text": [
      " 20%|██        | 12/59 [00:59<02:59,  3.82s/it]"
     ]
    },
    {
     "name": "stdout",
     "output_type": "stream",
     "text": [
      "처리 완료: 2020년 10월 공영도매시장 농협 공판장 거래금액 및 반입량-20201001_20201031.csv\n"
     ]
    },
    {
     "name": "stderr",
     "output_type": "stream",
     "text": [
      " 22%|██▏       | 13/59 [01:03<02:50,  3.71s/it]"
     ]
    },
    {
     "name": "stdout",
     "output_type": "stream",
     "text": [
      "처리 완료: 2020년 11월 공영도매시장 농협 공판장 거래금액 및 반입량-20201101_20201130.csv\n"
     ]
    },
    {
     "name": "stderr",
     "output_type": "stream",
     "text": [
      " 24%|██▎       | 14/59 [01:09<03:26,  4.59s/it]"
     ]
    },
    {
     "name": "stdout",
     "output_type": "stream",
     "text": [
      "처리 완료: 2021년 03월 공영도매시장 농협 공판장 거래금액 및 반입량-20210301_20210331.csv\n",
      "처리 완료: 2021년 04월 공영도매시장 농협 공판장 거래금액 및 반입량-20210401_20210430.csv\n"
     ]
    },
    {
     "name": "stderr",
     "output_type": "stream",
     "text": [
      " 27%|██▋       | 16/59 [01:13<02:25,  3.38s/it]"
     ]
    },
    {
     "name": "stdout",
     "output_type": "stream",
     "text": [
      "처리 완료: 2021년 05월 공영도매시장 농협 공판장 거래금액 및 반입량-20210501_20210531.csv\n"
     ]
    },
    {
     "name": "stderr",
     "output_type": "stream",
     "text": [
      " 29%|██▉       | 17/59 [01:25<03:49,  5.46s/it]"
     ]
    },
    {
     "name": "stdout",
     "output_type": "stream",
     "text": [
      "처리 완료: 2021년 06월 공영도매시장 농협 공판장 거래금액 및 반입량-20210601_20210630.csv\n",
      "처리 완료: 2021년 10월 공영도매시장 농협 공판장 거래금액 및 반입량-20211001_20211031.csv\n"
     ]
    },
    {
     "name": "stderr",
     "output_type": "stream",
     "text": [
      " 32%|███▏      | 19/59 [01:43<04:14,  6.36s/it]"
     ]
    },
    {
     "name": "stdout",
     "output_type": "stream",
     "text": [
      "처리 완료: 2021년 08월 공영도매시장 농협 공판장 거래금액 및 반입량-20210801_20210831.csv\n",
      "처리 완료: 2021년 12월 공영도매시장 농협 공판장 거래금액 및 반입량-20211201_20211231.csv\n",
      "처리 완료: 2021년 07월 공영도매시장 농협 공판장 거래금액 및 반입량-20210701_20210731.csv\n",
      "처리 완료: 2021년 09월 공영도매시장 농협 공판장 거래금액 및 반입량-20210901_20210930.csv\n",
      "처리 완료: 2021년 11월 공영도매시장 농협 공판장 거래금액 및 반입량-20211101_20211130.csv\n",
      "처리 완료: 2022년 01월 공영도매시장 농협 공판장 거래금액 및 반입량-20220101_20220131.csv\n",
      "처리 완료: 2022년 02월 공영도매시장 농협 공판장 거래금액 및 반입량-20220201_20220228.csv\n",
      "처리 완료: 2022년 09월 공영도매시장 농협 공판장 거래금액 및 반입량-20220901_20220930.csv\n",
      "처리 완료: 2022년 03월 공영도매시장 농협 공판장 거래금액 및 반입량-20220301_20220331.csv\n",
      "처리 완료: 2022년 04월 공영도매시장 농협 공판장 거래금액 및 반입량-20220401_20220430.csv\n",
      "처리 완료: 2022년 05월 공영도매시장 농협 공판장 거래금액 및 반입량-20220501_20220531.csv\n",
      "처리 완료: 2022년 07월 공영도매시장 농협 공판장 거래금액 및 반입량-20220701_20220731.csv\n",
      "처리 완료: 2022년 06월 공영도매시장 농협 공판장 거래금액 및 반입량-20220601_20220630.csv\n",
      "처리 완료: 2022년 08월 공영도매시장 농협 공판장 거래금액 및 반입량-20220801_20220831.csv\n",
      "처리 완료: 2023년 01월 공영도매시장 농협 공판장 거래금액 및 반입량-20230101_20230131.csv\n",
      "처리 완료: 2022년 10월 공영도매시장 농협 공판장 거래금액 및 반입량-20221001_20221031.csv\n",
      "처리 완료: 2023년 02월 공영도매시장 농협 공판장 거래금액 및 반입량-20230201_20230228.csv\n",
      "처리 완료: 2022년 12월 공영도매시장 농협 공판장 거래금액 및 반입량-20221201_20221231.csv\n",
      "처리 완료: 2022년 11월 공영도매시장 농협 공판장 거래금액 및 반입량-20221101_20221130.csv\n",
      "처리 완료: 2023년 03월 공영도매시장 농협 공판장 거래금액 및 반입량-20230301_20230331.csv\n",
      "처리 완료: 2023년 04월 공영도매시장 농협 공판장 거래금액 및 반입량-20230401_20230430.csv\n",
      "처리 완료: 2023년 05월 공영도매시장 농협 공판장 거래금액 및 반입량-20230501_20230531.csv\n",
      "처리 완료: 2023년 07월 공영도매시장 농협 공판장 거래금액 및 반입량-202307.csv\n",
      "처리 완료: 2023년 06월 공영도매시장 농협 공판장 거래금액 및 반입량-202306.csv\n",
      "처리 완료: 2023년 10월 공영도매시장 농협 공판장 거래금액 및 반입량-202310.csv\n",
      "처리 완료: 2023년 08월 공영도매시장 농협 공판장 거래금액 및 반입량-202308.csv\n",
      "처리 완료: 2023년 09월 공영도매시장 농협 공판장 거래금액 및 반입량-202309.csv\n",
      "처리 완료: 2023년 12월 공영도매시장 농협 공판장 거래금액 및 반입량-20240116.csv\n",
      "처리 완료: 2023년 11월 공영도매시장 농협 공판장 거래금액 및 반입량-20231219.csv\n",
      "처리 완료: 2024년 01월 공영도매시장 농협 공판장 거래금액 및 반입량-20240216.csv\n",
      "처리 완료: 2024년 02월 공영도매시장 농협 공판장 거래금액 및 반입량-20240319.csv\n",
      "처리 완료: 2024년 03월 공영도매시장 농협 공판장 거래금액 및 반입량-20240416.csv\n",
      "처리 완료: 2024년 04월 공영도매시장 농협 공판장 거래금액 및 반입량-20240516.csv\n",
      "처리 완료: 2024년 05월 공영도매시장 농협 공판장 거래금액 및 반입량-20240617.csv\n",
      "처리 완료: 2024년 06월 공영도매시장 농협 공판장 거래금액 및 반입량-20240716.csv\n",
      "처리 완료: 2024년 07월 공영도매시장 농협 공판장 거래금액 및 반입량-20240816.csv\n",
      "처리 완료: 2024년 08월 공영도매시장 농협 공판장 거래금액 및 반입량-20240919.csv\n",
      "처리 완료: 2024년 09월 공영도매시장 농협 공판장 거래금액 및 반입량-20241016.csv\n",
      "처리 완료: 2024년 10월 공영도매시장 농협 공판장 거래금액 및 반입량-20241115.csv\n",
      "처리 완료: 2024년 12월 공영도매시장 농협 공판장 거래금액 및 반입량-20250116.csv\n",
      "처리 완료: 2024년 11월 공영도매시장 농협 공판장 거래금액 및 반입량-20241216.csv\n"
     ]
    },
    {
     "name": "stderr",
     "output_type": "stream",
     "text": [
      " 34%|███▍      | 20/59 [04:35<34:25, 52.95s/it]"
     ]
    },
    {
     "name": "stdout",
     "output_type": "stream",
     "text": [
      "중간 결과 저장: temp_result_20.csv\n"
     ]
    },
    {
     "name": "stderr",
     "output_type": "stream",
     "text": [
      "100%|██████████| 59/59 [05:09<00:00,  5.24s/it]"
     ]
    },
    {
     "name": "stdout",
     "output_type": "stream",
     "text": [
      "중간 결과 저장: temp_result_40.csv\n"
     ]
    },
    {
     "name": "stderr",
     "output_type": "stream",
     "text": [
      "\n"
     ]
    },
    {
     "name": "stdout",
     "output_type": "stream",
     "text": [
      "총 16326346개 데이터 로드 완료. 전처리 시작...\n",
      "중간 데이터 저장 완료: temp_processed_data.csv\n",
      "이상치 제거 중...\n",
      "\n",
      "품목별 가격 범위:\n",
      "               min           max         mean          std\n",
      "product                                                   \n",
      "감귤       54.545455  17886.666667  2458.938357  1910.428388\n",
      "고구마       0.416667   8400.000000  1824.233698   936.391679\n",
      "대파       50.000000   7814.285714  1787.941333   918.527622\n",
      "배        33.333333  16640.000000  2695.215778  1417.287559\n",
      "사과        5.555556  12500.000000  2950.066222  1713.833930\n",
      "상추       10.483653  30911.000000  4369.938308  3537.310520\n",
      "수박        7.142857   8875.000000  1687.319207   843.483748\n",
      "양파        7.636364   2875.000000   949.067262   413.882544\n",
      "오이        0.100000   9466.666667  1927.593139  1178.994327\n",
      "포도       11.627907  27280.000000  5805.184108  2952.418444\n",
      "월별 가중 평균 계산 중...\n",
      "추가 특성 생성 중...\n",
      "\n",
      "사과 데이터: 59개 월 (기간: 2020-01-01 00:00:00 ~ 2024-12-01 00:00:00)\n",
      "\n",
      "감귤 데이터: 59개 월 (기간: 2020-01-01 00:00:00 ~ 2024-12-01 00:00:00)\n",
      "\n",
      "수박 데이터: 59개 월 (기간: 2020-01-01 00:00:00 ~ 2024-12-01 00:00:00)\n",
      "\n",
      "배 데이터: 59개 월 (기간: 2020-01-01 00:00:00 ~ 2024-12-01 00:00:00)\n",
      "\n",
      "포도 데이터: 59개 월 (기간: 2020-01-01 00:00:00 ~ 2024-12-01 00:00:00)\n",
      "\n",
      "양파 데이터: 59개 월 (기간: 2020-01-01 00:00:00 ~ 2024-12-01 00:00:00)\n",
      "\n",
      "대파 데이터: 59개 월 (기간: 2020-01-01 00:00:00 ~ 2024-12-01 00:00:00)\n",
      "\n",
      "오이 데이터: 59개 월 (기간: 2020-01-01 00:00:00 ~ 2024-12-01 00:00:00)\n",
      "\n",
      "상추 데이터: 59개 월 (기간: 2020-01-01 00:00:00 ~ 2024-12-01 00:00:00)\n",
      "\n",
      "고구마 데이터: 59개 월 (기간: 2020-01-01 00:00:00 ~ 2024-12-01 00:00:00)\n",
      "\n",
      "모든 처리가 완료되었습니다! 결과 파일: processed_monthly_agricultural_prices.csv\n",
      "\n",
      "품목별 기본 통계:\n",
      "         count         mean          std          min          25%  \\\n",
      "product                                                              \n",
      "감귤        59.0  3864.830884  2029.158347  1048.731249  1893.400837   \n",
      "고구마       59.0  1967.833516   616.517823  1214.631512  1496.689837   \n",
      "대파        59.0  1703.245434   764.271044   690.148743  1243.735645   \n",
      "배         59.0  2799.723856  1270.212674  1474.091567  1957.532598   \n",
      "사과        59.0  2970.133226  1128.511282  1448.822479  2087.533076   \n",
      "상추        59.0  4202.423633  2338.295668  1689.510870  2573.019287   \n",
      "수박        59.0  2150.082973   855.563138   848.162955  1493.115129   \n",
      "양파        59.0   969.297382   298.437179   386.275590   815.887643   \n",
      "오이        59.0  2137.134761   907.519189   923.947982  1386.706593   \n",
      "포도        59.0  5938.360728  1452.323619  3073.843205  5031.645143   \n",
      "\n",
      "                 50%          75%           max  \n",
      "product                                          \n",
      "감귤       4293.628405  5378.798206   8489.817981  \n",
      "고구마      1798.359679  2310.849303   3971.487981  \n",
      "대파       1573.782607  1853.855093   4707.082415  \n",
      "배        2423.589326  3323.477345   7046.397468  \n",
      "사과       2656.968379  3530.400840   5826.228012  \n",
      "상추       3381.625202  5021.421358  11879.944174  \n",
      "수박       2064.438798  2572.839866   4687.205326  \n",
      "양파       1008.909762  1152.526240   1744.132471  \n",
      "오이       1979.106044  2735.613237   4844.486116  \n",
      "포도       5729.492466  6926.054489  10250.113539  \n"
     ]
    }
   ],
   "source": [
    "if __name__ == \"__main__\":\n",
    "    main()"
   ]
  }
 ],
 "metadata": {
  "kernelspec": {
   "display_name": "venv",
   "language": "python",
   "name": "python3"
  },
  "language_info": {
   "codemirror_mode": {
    "name": "ipython",
    "version": 3
   },
   "file_extension": ".py",
   "mimetype": "text/x-python",
   "name": "python",
   "nbconvert_exporter": "python",
   "pygments_lexer": "ipython3",
   "version": "3.13.1"
  }
 },
 "nbformat": 4,
 "nbformat_minor": 2
}
