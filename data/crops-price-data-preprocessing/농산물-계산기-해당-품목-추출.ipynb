{
 "cells": [
  {
   "cell_type": "markdown",
   "metadata": {},
   "source": [
    "### 농산물 품목 선정 이후 해당 농산물 데이터만 추출\n",
    "\n",
    "##### 선정된 10가지 품목 (사과, 감귤, 수박, 배, 포도, 양파, 대파, 오이, 상추, 고구마)의 1년치 데이터 수집해 각 품목에 대한 파일 생성"
   ]
  },
  {
   "cell_type": "code",
   "execution_count": 1,
   "metadata": {},
   "outputs": [],
   "source": [
    "import os\n",
    "import glob\n",
    "import pandas as pd"
   ]
  },
  {
   "cell_type": "code",
   "execution_count": 11,
   "metadata": {},
   "outputs": [],
   "source": [
    "products = ['사과', '감귤', '수박', '배', '포도', '양파', '대파', '오이', '상추', '고구마']"
   ]
  },
  {
   "cell_type": "code",
   "execution_count": 18,
   "metadata": {},
   "outputs": [],
   "source": [
    "column_to_check = \"PDLT_NM\" \n",
    "\n",
    "# 품목 찾아서 파일 합치기\n",
    "def find_product(product, all_data, df, column_name=column_to_check):\n",
    "    # 해당 컬럼이 df에 있는지 확인\n",
    "    if column_name in df.columns:\n",
    "        # str.contains 사용 전에 해당 컬럼이 문자열인지 확인\n",
    "        if df[column_name].dtype == 'object':\n",
    "            filtered_df = df[df[column_name].str.contains(product, na=False)]\n",
    "            if not filtered_df.empty:\n",
    "                if all_data.empty:\n",
    "                    return filtered_df\n",
    "                else:\n",
    "                    return pd.concat([all_data, filtered_df], axis=0)\n",
    "    return all_data"
   ]
  },
  {
   "cell_type": "code",
   "execution_count": 20,
   "metadata": {},
   "outputs": [
    {
     "name": "stdout",
     "output_type": "stream",
     "text": [
      "'사과' 데이터 처리 중...\n",
      "'사과' 데이터 42916행이 사과_data.csv으로 저장되었습니다.\n",
      "'감귤' 데이터 처리 중...\n",
      "'감귤' 데이터 22082행이 감귤_data.csv으로 저장되었습니다.\n",
      "'수박' 데이터 처리 중...\n",
      "'수박' 데이터 14552행이 수박_data.csv으로 저장되었습니다.\n",
      "'배' 데이터 처리 중...\n",
      "'배' 데이터 127990행이 배_data.csv으로 저장되었습니다.\n",
      "'포도' 데이터 처리 중...\n",
      "'포도' 데이터 35358행이 포도_data.csv으로 저장되었습니다.\n",
      "'양파' 데이터 처리 중...\n",
      "'양파' 데이터 21687행이 양파_data.csv으로 저장되었습니다.\n",
      "'대파' 데이터 처리 중...\n",
      "'대파' 데이터 34172행이 대파_data.csv으로 저장되었습니다.\n",
      "'오이' 데이터 처리 중...\n",
      "'오이' 데이터 63895행이 오이_data.csv으로 저장되었습니다.\n",
      "'상추' 데이터 처리 중...\n",
      "'상추' 데이터 78764행이 상추_data.csv으로 저장되었습니다.\n",
      "'고구마' 데이터 처리 중...\n",
      "'고구마' 데이터 23695행이 고구마_data.csv으로 저장되었습니다.\n",
      "모든 품목 처리 완료!\n"
     ]
    }
   ],
   "source": [
    "\n",
    "folder_path = './2023-24-도매시세' \n",
    "\n",
    "# 폴더 내 csv 파일 경로 리스트 생성\n",
    "csv_file_list = glob.glob(os.path.join(folder_path, '*.csv'))\n",
    "\n",
    "# 품목별로 처리\n",
    "for product in products:\n",
    "    print(f\"'{product}' 데이터 처리 중...\")\n",
    "    \n",
    "    # 각 품목마다 all_data 초기화\n",
    "    all_data = pd.DataFrame()\n",
    "    \n",
    "    # 모든 파일을 순회하며 해당 품목 데이터 찾기\n",
    "    for file_path in csv_file_list:\n",
    "        # 파일 읽기\n",
    "        df = pd.read_csv(file_path, encoding='euc-kr', low_memory=False)\n",
    "        \n",
    "        # 'CHG_TOT_VOLM' 컬럼이 있는지 확인하고 이름 변경\n",
    "        if 'CHG_TOT_VOLM' in df.columns:\n",
    "            df.rename(columns={'CHG_TOT_VOLM': 'KG_CHG_TOT_VOLM'}, inplace=True)\n",
    "        \n",
    "        # 인덱스 리셋\n",
    "        df.reset_index(drop=True, inplace=True)\n",
    "        \n",
    "        # 현재 품목에 대한 데이터 찾기\n",
    "        all_data = find_product(product, all_data, df)\n",
    "    \n",
    "    # 결과 확인 및 저장\n",
    "    if all_data.empty:\n",
    "        print(f\"'{product}'에 대한 데이터가 없습니다.\")\n",
    "    else:\n",
    "        # 파일명에 품목 이름 포함\n",
    "        file_name = f\"{product}_data.csv\"\n",
    "        file_path = os.path.join(\"품목별-데이터\", file_name)\n",
    "        \n",
    "        # 결과 저장\n",
    "        all_data.to_csv(file_path, index=False, encoding='euc-kr')\n",
    "        print(f\"'{product}' 데이터 {len(all_data)}행이 {file_name}으로 저장되었습니다.\")\n",
    "\n",
    "print(\"모든 품목 처리 완료!\")"
   ]
  }
 ],
 "metadata": {
  "kernelspec": {
   "display_name": "venv",
   "language": "python",
   "name": "python3"
  },
  "language_info": {
   "codemirror_mode": {
    "name": "ipython",
    "version": 3
   },
   "file_extension": ".py",
   "mimetype": "text/x-python",
   "name": "python",
   "nbconvert_exporter": "python",
   "pygments_lexer": "ipython3",
   "version": "3.9.13"
  }
 },
 "nbformat": 4,
 "nbformat_minor": 2
}
