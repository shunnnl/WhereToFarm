{
 "cells": [
  {
   "cell_type": "code",
   "execution_count": 1,
   "id": "7b9b2be3-ead5-4b2c-8867-9e57e581958d",
   "metadata": {},
   "outputs": [
    {
     "name": "stdout",
     "output_type": "stream",
     "text": [
      "현재 Python 실행 경로: C:\\Users\\SSAFY\\AppData\\Local\\Programs\\Python\\Python311\\python.exe\n"
     ]
    }
   ],
   "source": [
    "import sys\n",
    "print(\"현재 Python 실행 경로:\", sys.executable)"
   ]
  },
  {
   "cell_type": "code",
   "execution_count": 2,
   "id": "2974ac8b-14ea-4fc1-bc10-65e842d77377",
   "metadata": {},
   "outputs": [
    {
     "name": "stdout",
     "output_type": "stream",
     "text": [
      "SPARK_HOME: C:\\Users\\SSAFY\\AppData\\Local\\Programs\\Python\\Python311\\Lib\\site-packages\\pyspark\n"
     ]
    }
   ],
   "source": [
    "# SPARK_HOME을 311로 변경\n",
    "\n",
    "import os \n",
    "\n",
    "os.environ[\"SPARK_HOME\"] = r\"C:\\Users\\SSAFY\\AppData\\Local\\Programs\\Python\\Python311\\Lib\\site-packages\\pyspark\"\n",
    "\n",
    "# 변경된 값 확인\n",
    "print(\"SPARK_HOME:\", os.environ.get(\"SPARK_HOME\"))"
   ]
  },
  {
   "cell_type": "code",
   "execution_count": 3,
   "id": "419de2e2-39aa-42c6-81dd-828b3d155890",
   "metadata": {},
   "outputs": [
    {
     "name": "stdout",
     "output_type": "stream",
     "text": [
      "PYSPARK_PYTHON: C:\\Users\\SSAFY\\AppData\\Local\\Programs\\Python\\Python311\\python.exe\n",
      "PYSPARK_DRIVER_PYTHON: C:\\Users\\SSAFY\\AppData\\Local\\Programs\\Python\\Python311\\python.exe\n",
      "JAVA_HOME: C:\\Program Files\\Eclipse Adoptium\\jdk-17.0.14.7-hotspot\n",
      "SPARK_HOME: C:\\Users\\SSAFY\\AppData\\Local\\Programs\\Python\\Python311\\Lib\\site-packages\\pyspark\n",
      "HADOOP_HOME: None\n"
     ]
    }
   ],
   "source": [
    "import os\n",
    "os.environ[\"PYSPARK_PYTHON\"] = r\"C:\\Users\\SSAFY\\AppData\\Local\\Programs\\Python\\Python311\\python.exe\"\n",
    "os.environ[\"PYSPARK_DRIVER_PYTHON\"] = os.environ[\"PYSPARK_PYTHON\"]\n",
    "\n",
    "# 설정 확인\n",
    "print(\"PYSPARK_PYTHON:\", os.environ.get(\"PYSPARK_PYTHON\"))\n",
    "print(\"PYSPARK_DRIVER_PYTHON:\", os.environ.get(\"PYSPARK_DRIVER_PYTHON\"))\n",
    "\n",
    "print(\"JAVA_HOME:\", os.environ.get(\"JAVA_HOME\"))\n",
    "print(\"SPARK_HOME:\", os.environ.get(\"SPARK_HOME\"))\n",
    "print(\"HADOOP_HOME:\", os.environ.get(\"HADOOP_HOME\"))"
   ]
  },
  {
   "cell_type": "code",
   "execution_count": 4,
   "id": "74da474e-6d37-4f34-917d-2aa5ed841069",
   "metadata": {},
   "outputs": [
    {
     "name": "stdout",
     "output_type": "stream",
     "text": [
      "<pyspark.sql.session.SparkSession object at 0x000001989C193490>\n"
     ]
    }
   ],
   "source": [
    "import findspark\n",
    "findspark.init()\n",
    "\n",
    "from pyspark.sql import SparkSession\n",
    "\n",
    "spark = SparkSession.builder.master(\"local\").appName(\"SparkSQL\").getOrCreate()\n",
    "spark.sparkContext.setLogLevel(\"ERROR\")\n",
    "\n",
    "print(spark)"
   ]
  },
  {
   "cell_type": "code",
   "execution_count": 6,
   "id": "d84268bc-04f6-4c0b-b692-9601fd8dfbc4",
   "metadata": {},
   "outputs": [
    {
     "name": "stdout",
     "output_type": "stream",
     "text": [
      "+------+--------+\n",
      "|대분류|  소분류|\n",
      "+------+--------+\n",
      "|경기도|  기장군|\n",
      "|경기도|  달성군|\n",
      "|경기도|  강화군|\n",
      "|경기도|  옹진군|\n",
      "|경기도|  울주군|\n",
      "|경기도|  세종시|\n",
      "|경기도|  평택시|\n",
      "|경기도|남양주시|\n",
      "|경기도|  용인시|\n",
      "|경기도|  파주시|\n",
      "|경기도|  이천시|\n",
      "|경기도|  안성시|\n",
      "|경기도|  김포시|\n",
      "|경기도|  화성시|\n",
      "|경기도|  광주시|\n",
      "|경기도|  양주시|\n",
      "|경기도|  포천시|\n",
      "|경기도|  여주시|\n",
      "|경기도|  연천군|\n",
      "|경기도|  가평군|\n",
      "+------+--------+\n",
      "only showing top 20 rows\n",
      "\n"
     ]
    }
   ],
   "source": [
    "region_data = [\n",
    "    (\"경기도\", \"기장군\"), (\"경기도\", \"달성군\"), (\"경기도\", \"강화군\"), (\"경기도\", \"옹진군\"), (\"경기도\", \"울주군\"), \n",
    "    (\"경기도\", \"세종시\"), (\"경기도\", \"평택시\"), (\"경기도\", \"남양주시\"), (\"경기도\", \"용인시\"), (\"경기도\", \"파주시\"),\n",
    "    (\"경기도\", \"이천시\"), (\"경기도\", \"안성시\"), (\"경기도\", \"김포시\"), (\"경기도\", \"화성시\"), (\"경기도\", \"광주시\"),\n",
    "    (\"경기도\", \"양주시\"), (\"경기도\", \"포천시\"), (\"경기도\", \"여주시\"), (\"경기도\", \"연천군\"), (\"경기도\", \"가평군\"), \n",
    "    (\"경기도\", \"양평군\")\n",
    "]\n",
    "\n",
    "# PySpark DataFrame 생성\n",
    "df_regions = spark.createDataFrame(region_data, [\"대분류\", \"소분류\"])\n",
    "\n",
    "# 데이터 확인\n",
    "df_regions.show()"
   ]
  },
  {
   "cell_type": "code",
   "execution_count": 8,
   "id": "42769f07-2f92-45e6-a92d-a82c76988de6",
   "metadata": {},
   "outputs": [
    {
     "name": "stdout",
     "output_type": "stream",
     "text": [
      "파일 로딩 성공!\n",
      "+------+------+-------------+------------------+------------------+-------------------+-------------------+-------------------+------------------+--------------------+------------------+------------------+------------------+\n",
      "|대분류|소분류|  full_region|          공시지가| ㎡당 거래가(만원)|     소비자물가지수|     면적당 학교 수|     면적당 병원 수|  인구밀도 (명/㎢)|커뮤니티 활성화 지수|       대기질 지수|         수질 지수|         녹지 비율|\n",
      "+------+------+-------------+------------------+------------------+-------------------+-------------------+-------------------+------------------+--------------------+------------------+------------------+------------------+\n",
      "|경기도|기장군|경기도 기장군|0.4450993595175989|1.4203759292283242|0.23636363636363455| 1.1673161859158605| 1.8633794568358808| 1.798780368001232|  0.0403409767651533|0.3633770368536448|0.5916159466316668|0.3149321009320848|\n",
      "|경기도|달성군|경기도 달성군|0.4450993595175989|1.4203759292283242|0.23636363636363455| 1.0109128467818698| 1.3982114068424314|1.4493267276786141| 0.04887181804916576|0.3882222156072643|0.5840425272767619| 0.261259970504418|\n",
      "|경기도|강화군|경기도 강화군|0.4450993595175989|1.4203759292283242|0.23636363636363455|  3.992407879881682| 2.9297195932347195|5.7943459777256985|  0.0616930785261384| 0.315436766730691|0.5042689574407208|0.2791903165614306|\n",
      "|경기도|옹진군|경기도 옹진군|0.4450993595175989|1.4203759292283242|0.23636363636363455| 1.2393168634573122|0.22913291095620067| 5.019696513594323|0.018186558381785657|0.2134221799409427|0.5538911344946106|0.3230920894438945|\n",
      "|경기도|울주군|경기도 울주군|0.4450993595175989|1.4203759292283242|0.23636363636363455|0.25679084954020215| 0.4037151945106923|0.6928381245519624| 0.07593830219889114|0.2585422936298777|0.4025893510632862|0.3206116309494701|\n",
      "+------+------+-------------+------------------+------------------+-------------------+-------------------+-------------------+------------------+--------------------+------------------+------------------+------------------+\n",
      "only showing top 5 rows\n",
      "\n"
     ]
    }
   ],
   "source": [
    "from pyspark.sql import SparkSession\n",
    "\n",
    "# Spark 세션 시작\n",
    "spark = SparkSession.builder.appName(\"FARM Recommendation\").getOrCreate()\n",
    "\n",
    "# 절대 경로로 수정\n",
    "file_path = \"FARM_normalized.csv\"\n",
    "\n",
    "try:\n",
    "    df = spark.read.csv(file_path, header=True, inferSchema=True)\n",
    "    print(\"파일 로딩 성공!\")\n",
    "    df.show(5)\n",
    "except Exception as e:\n",
    "    print(f\"파일 로딩 실패: {e}\")"
   ]
  },
  {
   "cell_type": "code",
   "execution_count": 13,
   "id": "46261f36-ece0-4859-a330-7bab251f75c1",
   "metadata": {
    "scrolled": true
   },
   "outputs": [
    {
     "name": "stdout",
     "output_type": "stream",
     "text": [
      "+---------------+----------+\n",
      "|    full_region|similarity|\n",
      "+---------------+----------+\n",
      "|경상남도 남해군|0.96840334|\n",
      "|충청북도 음성군|0.95567137|\n",
      "|제주도 서귀포시| 0.9549242|\n",
      "+---------------+----------+\n",
      "\n"
     ]
    }
   ],
   "source": [
    "from pyspark.sql import SparkSession\n",
    "from pyspark.sql.functions import col, udf, array\n",
    "from pyspark.sql.types import FloatType\n",
    "import numpy as np\n",
    "\n",
    "# Spark 세션 시작\n",
    "spark = SparkSession.builder.appName(\"FARM Recommendation\").getOrCreate()\n",
    "\n",
    "# CSV 파일 불러오기\n",
    "file_path = \"FARM_normalized_updated.csv\"\n",
    "df = spark.read.csv(file_path, header=True, inferSchema=True)\n",
    "\n",
    "# 사용자 선호도 입력\n",
    "user_preferences = {\n",
    "    \"F\": 0.2,  # 비용 선호도 (0 ~ 1)\n",
    "    \"A\": 0.2,  # 접근성 선호도 (0 ~ 1)\n",
    "    \"R\": 0.3,  # 커뮤니티 활성화 선호도 (0 ~ 1)\n",
    "    \"M\": 0.8   # 자연환경 선호도 (0 ~ 1)\n",
    "}\n",
    "\n",
    "# 사용자 벡터를 10차원으로 확장\n",
    "user_vector = np.array([\n",
    "    user_preferences[\"F\"],  # 공시지가\n",
    "    user_preferences[\"F\"],  # ㎡당 거래가(만원)\n",
    "    user_preferences[\"F\"],  # 소비자물가지수\n",
    "    user_preferences[\"A\"],  # 면적당 학교 수\n",
    "    user_preferences[\"A\"],  # 면적당 병원 수\n",
    "    user_preferences[\"R\"],  # 인구밀도 (명/㎢)\n",
    "    user_preferences[\"R\"],  # 커뮤니티 활성화 지수\n",
    "    user_preferences[\"M\"],  # 대기질 지수\n",
    "    user_preferences[\"M\"],  # 수질 지수\n",
    "    user_preferences[\"M\"]   # 녹지 비율\n",
    "])\n",
    "\n",
    "# 유사도 계산 함수 (코사인 유사도)\n",
    "def cosine_similarity(arr1, arr2):\n",
    "    dot_product = np.dot(arr1, arr2)\n",
    "    norm1 = np.linalg.norm(arr1)\n",
    "    norm2 = np.linalg.norm(arr2)\n",
    "    return float(dot_product / (norm1 * norm2)) if norm1 != 0 and norm2 != 0 else 0.0\n",
    "\n",
    "# UDF로 유사도 계산 함수 등록\n",
    "@udf(FloatType())\n",
    "def calculate_similarity(*features):\n",
    "    data_vector = np.array(features, dtype=float)\n",
    "    return cosine_similarity(data_vector, user_vector)\n",
    "\n",
    "# 벡터화\n",
    "features = [\"공시지가\", \"㎡당 거래가(만원)\", \"소비자물가지수\", \"면적당 학교 수\", \"면적당 병원 수\", \"인구밀도 (명/㎢)\", \"커뮤니티 활성화 지수\", \"대기질 지수\", \"수질 지수\", \"녹지 비율\"]\n",
    "df = df.withColumn(\"similarity\", calculate_similarity(*[col(f) for f in features]))\n",
    "\n",
    "\n",
    "# 유사도 기반 추천 (상위 3개 지역)\n",
    "recommended = df.select(\"full_region\", \"similarity\").orderBy(col(\"similarity\").desc()).limit(3)\n",
    "recommended.show()\n"
   ]
  },
  {
   "cell_type": "code",
   "execution_count": 8,
   "id": "f6176eb9-4426-4570-8d4c-abc9b23439a6",
   "metadata": {},
   "outputs": [
    {
     "name": "stdout",
     "output_type": "stream",
     "text": [
      "+---------------+----------+\n",
      "|    full_region|similarity|\n",
      "+---------------+----------+\n",
      "|경상남도 남해군|0.96840334|\n",
      "|충청북도 음성군|0.95567137|\n",
      "|제주도 서귀포시| 0.9549242|\n",
      "+---------------+----------+\n",
      "\n",
      "실행 시간: 1.07초\n"
     ]
    }
   ],
   "source": [
    "import time\n",
    "from pyspark.sql import SparkSession\n",
    "from pyspark.sql.functions import col, udf\n",
    "from pyspark.sql.types import FloatType\n",
    "import numpy as np\n",
    "\n",
    "\n",
    "# Spark 세션 시작\n",
    "spark = SparkSession.builder.appName(\"FARM Recommendation\").getOrCreate()\n",
    "\n",
    "start_time = time.time()  # 시간 측정 시작\n",
    "\n",
    "# CSV 파일 불러오기\n",
    "file_path = \"FARM_normalized_updated.csv\"\n",
    "df = spark.read.csv(file_path, header=True, inferSchema=True)\n",
    "\n",
    "# 사용자 선호도 입력\n",
    "user_preferences = {\n",
    "    \"F\": 0.2,\n",
    "    \"A\": 0.2,\n",
    "    \"R\": 0.3,\n",
    "    \"M\": 0.8\n",
    "}\n",
    "\n",
    "user_vector = np.array([\n",
    "    user_preferences[\"F\"],\n",
    "    user_preferences[\"F\"],\n",
    "    user_preferences[\"F\"],\n",
    "    user_preferences[\"A\"],\n",
    "    user_preferences[\"A\"],\n",
    "    user_preferences[\"R\"],\n",
    "    user_preferences[\"R\"],\n",
    "    user_preferences[\"M\"],\n",
    "    user_preferences[\"M\"],\n",
    "    user_preferences[\"M\"]\n",
    "])\n",
    "\n",
    "def cosine_similarity(arr1, arr2):\n",
    "    dot_product = np.dot(arr1, arr2)\n",
    "    norm1 = np.linalg.norm(arr1)\n",
    "    norm2 = np.linalg.norm(arr2)\n",
    "    return float(dot_product / (norm1 * norm2)) if norm1 != 0 and norm2 != 0 else 0.0\n",
    "\n",
    "@udf(FloatType())\n",
    "def calculate_similarity(*features):\n",
    "    data_vector = np.array(features, dtype=float)\n",
    "    return cosine_similarity(data_vector, user_vector)\n",
    "\n",
    "features = [\"공시지가\", \"㎡당 거래가(만원)\", \"소비자물가지수\", \"면적당 학교 수\", \"면적당 병원 수\", \n",
    "            \"인구밀도 (명/㎢)\", \"커뮤니티 활성화 지수\", \"대기질 지수\", \"수질 지수\", \"녹지 비율\"]\n",
    "df = df.withColumn(\"similarity\", calculate_similarity(*[col(f) for f in features]))\n",
    "\n",
    "recommended = df.select(\"full_region\", \"similarity\").orderBy(col(\"similarity\").desc()).limit(3)\n",
    "recommended.show()\n",
    "\n",
    "end_time = time.time()  # 시간 측정 종료\n",
    "\n",
    "print(f\"실행 시간: {end_time - start_time:.2f}초\")\n"
   ]
  }
 ],
 "metadata": {
  "kernelspec": {
   "display_name": "Python 3 (ipykernel)",
   "language": "python",
   "name": "python3"
  },
  "language_info": {
   "codemirror_mode": {
    "name": "ipython",
    "version": 3
   },
   "file_extension": ".py",
   "mimetype": "text/x-python",
   "name": "python",
   "nbconvert_exporter": "python",
   "pygments_lexer": "ipython3",
   "version": "3.11.9"
  }
 },
 "nbformat": 4,
 "nbformat_minor": 5
}
